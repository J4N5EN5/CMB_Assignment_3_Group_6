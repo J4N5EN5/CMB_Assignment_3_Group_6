{
 "cells": [
  {
   "cell_type": "code",
   "execution_count": null,
   "metadata": {},
   "outputs": [],
   "source": [
    "import requests\n",
    "import json\n",
    "import pandas as pd\n",
    "import pyasn"
   ]
  },
  {
   "cell_type": "code",
   "execution_count": null,
   "metadata": {},
   "outputs": [],
   "source": [
    "pauls_key = \"32ea6dea-ec86-4ed9-9f20-004088064867\""
   ]
  },
  {
   "cell_type": "code",
   "execution_count": null,
   "metadata": {},
   "outputs": [],
   "source": [
    "def get_traceroute_data(api_key):\n",
    "    \"\"\"\n",
    "    Function filters traceroutes out of all measurements and returns only valid ones tagged with 'orangecat'.\n",
    "    @params\n",
    "        api_key: api_key from ripe atlas with 'List your measurements' permission.\n",
    "    @return\n",
    "        pandas dataframe with traceroute data\n",
    "    \"\"\"\n",
    "    measurements = requests.get(f\"https://atlas.ripe.net/api/v2/measurements/my/?key={api_key}\").json()['results']\n",
    "    \n",
    "    tracerout_list = []\n",
    "\n",
    "    for measurement in measurements:\n",
    "        if \"traceroute\" in measurement['tags'] and \"orangecat\" in measurement['tags']:\n",
    "            result_url = measurement['result']\n",
    "            start_time = measurement['start_time']\n",
    "            tracerout_url = f\"{result_url}?start={start_time}\"\n",
    "\n",
    "            traceroute_response = requests.get(tracerout_url)\n",
    "            if traceroute_response.status_code == 200:\n",
    "                tracerout_list.extend(traceroute_response.json())\n",
    "\n",
    "    return pd.DataFrame(tracerout_list)"
   ]
  },
  {
   "cell_type": "code",
   "execution_count": null,
   "metadata": {},
   "outputs": [],
   "source": [
    "df_traceroutes = get_traceroute_data(pauls_key)"
   ]
  },
  {
   "cell_type": "code",
   "execution_count": null,
   "metadata": {},
   "outputs": [],
   "source": [
    "mapping = pd.read_csv(\"data/mapping.csv\", index_col=0)    # This is the mapping from previous notebook that I stored as csv"
   ]
  },
  {
   "cell_type": "code",
   "execution_count": null,
   "metadata": {},
   "outputs": [],
   "source": []
  },
  {
   "cell_type": "code",
   "execution_count": null,
   "metadata": {},
   "outputs": [],
   "source": [
    "def get_asn(ip):\n",
    "    asndb = pyasn.pyasn('data/ipasn_20230214.dat')\n",
    "    return ansdb.lookup(ip)\n",
    "\n",
    "def get_asn_path(traceroute):\n",
    "    \"\"\"Gets the AS numbers to a tracerout. Only considers the first ip alternative of each hop.\"\"\"\n",
    "    ips = []\n",
    "    asn_path = []\n",
    "\n",
    "    for hop in traceroute:\n",
    "        try:\n",
    "            ip = hop['result'][0]['from']\n",
    "            if not ips or ips[-1] != ip:\n",
    "                ips.append(ip)\n",
    "                asn = get_asn(ip)\n",
    "                if not asn_path or asn_path[-1] != asn_object:\n",
    "                    asn_path.append(asn_object)\n",
    "        except Exception:\n",
    "            pass\n",
    "    return asn_path"
   ]
  },
  {
   "cell_type": "code",
   "execution_count": null,
   "metadata": {},
   "outputs": [],
   "source": [
    "df_traceroutes['asn_path'] = df_traceroutes['result'].apply(get_asn_path)"
   ]
  },
  {
   "cell_type": "code",
   "execution_count": null,
   "metadata": {},
   "outputs": [],
   "source": []
  }
 ],
 "metadata": {
  "kernelspec": {
   "display_name": "Python 3",
   "language": "python",
   "name": "python3"
  },
  "language_info": {
   "codemirror_mode": {
    "name": "ipython",
    "version": 3
   },
   "file_extension": ".py",
   "mimetype": "text/x-python",
   "name": "python",
   "nbconvert_exporter": "python",
   "pygments_lexer": "ipython3",
   "version": "3.8.10"
  }
 },
 "nbformat": 4,
 "nbformat_minor": 4
}
